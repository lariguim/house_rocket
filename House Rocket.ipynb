{
 "cells": [
  {
   "cell_type": "markdown",
   "id": "160182bf-0882-405b-83c4-0d1da28c35d6",
   "metadata": {},
   "source": [
    "# 0.0 Imports"
   ]
  },
  {
   "cell_type": "code",
   "execution_count": 1,
   "id": "d0fa22ee-663c-4666-8a7f-f9c39e6cb446",
   "metadata": {},
   "outputs": [],
   "source": [
    "import numpy as np\n",
    "import pandas as pd\n",
    "import seaborn as sns\n",
    "import datetime\n",
    "\n",
    "from matplotlib import pyplot as plt\n",
    "import plotly.express as px"
   ]
  },
  {
   "cell_type": "markdown",
   "id": "df185a84-9757-4890-8d35-58cf29cc5eb4",
   "metadata": {},
   "source": [
    "# 0.1 Load Dataset"
   ]
  },
  {
   "cell_type": "code",
   "execution_count": 2,
   "id": "2ab9813c-82d5-4cc7-b686-ee87828b42e0",
   "metadata": {},
   "outputs": [],
   "source": [
    "data = pd.read_csv('kc_house_data.csv')"
   ]
  },
  {
   "cell_type": "code",
   "execution_count": 3,
   "id": "c7dffd38-3b05-4347-bc10-deb6dcb0b4ab",
   "metadata": {},
   "outputs": [
    {
     "data": {
      "text/html": [
       "<div>\n",
       "<style scoped>\n",
       "    .dataframe tbody tr th:only-of-type {\n",
       "        vertical-align: middle;\n",
       "    }\n",
       "\n",
       "    .dataframe tbody tr th {\n",
       "        vertical-align: top;\n",
       "    }\n",
       "\n",
       "    .dataframe thead th {\n",
       "        text-align: right;\n",
       "    }\n",
       "</style>\n",
       "<table border=\"1\" class=\"dataframe\">\n",
       "  <thead>\n",
       "    <tr style=\"text-align: right;\">\n",
       "      <th></th>\n",
       "      <th>id</th>\n",
       "      <th>date</th>\n",
       "      <th>price</th>\n",
       "      <th>bedrooms</th>\n",
       "      <th>bathrooms</th>\n",
       "      <th>sqft_living</th>\n",
       "      <th>sqft_lot</th>\n",
       "      <th>floors</th>\n",
       "      <th>waterfront</th>\n",
       "      <th>view</th>\n",
       "      <th>...</th>\n",
       "      <th>grade</th>\n",
       "      <th>sqft_above</th>\n",
       "      <th>sqft_basement</th>\n",
       "      <th>yr_built</th>\n",
       "      <th>yr_renovated</th>\n",
       "      <th>zipcode</th>\n",
       "      <th>lat</th>\n",
       "      <th>long</th>\n",
       "      <th>sqft_living15</th>\n",
       "      <th>sqft_lot15</th>\n",
       "    </tr>\n",
       "  </thead>\n",
       "  <tbody>\n",
       "    <tr>\n",
       "      <th>0</th>\n",
       "      <td>7129300520</td>\n",
       "      <td>20141013T000000</td>\n",
       "      <td>221900.0</td>\n",
       "      <td>3</td>\n",
       "      <td>1.00</td>\n",
       "      <td>1180</td>\n",
       "      <td>5650</td>\n",
       "      <td>1.0</td>\n",
       "      <td>0</td>\n",
       "      <td>0</td>\n",
       "      <td>...</td>\n",
       "      <td>7</td>\n",
       "      <td>1180.0</td>\n",
       "      <td>0</td>\n",
       "      <td>1955</td>\n",
       "      <td>0</td>\n",
       "      <td>98178</td>\n",
       "      <td>47.5112</td>\n",
       "      <td>-122.257</td>\n",
       "      <td>1340</td>\n",
       "      <td>5650</td>\n",
       "    </tr>\n",
       "    <tr>\n",
       "      <th>1</th>\n",
       "      <td>6414100192</td>\n",
       "      <td>20141209T000000</td>\n",
       "      <td>538000.0</td>\n",
       "      <td>3</td>\n",
       "      <td>2.25</td>\n",
       "      <td>2570</td>\n",
       "      <td>7242</td>\n",
       "      <td>2.0</td>\n",
       "      <td>0</td>\n",
       "      <td>0</td>\n",
       "      <td>...</td>\n",
       "      <td>7</td>\n",
       "      <td>2170.0</td>\n",
       "      <td>400</td>\n",
       "      <td>1951</td>\n",
       "      <td>1991</td>\n",
       "      <td>98125</td>\n",
       "      <td>47.7210</td>\n",
       "      <td>-122.319</td>\n",
       "      <td>1690</td>\n",
       "      <td>7639</td>\n",
       "    </tr>\n",
       "    <tr>\n",
       "      <th>2</th>\n",
       "      <td>5631500400</td>\n",
       "      <td>20150225T000000</td>\n",
       "      <td>180000.0</td>\n",
       "      <td>2</td>\n",
       "      <td>1.00</td>\n",
       "      <td>770</td>\n",
       "      <td>10000</td>\n",
       "      <td>1.0</td>\n",
       "      <td>0</td>\n",
       "      <td>0</td>\n",
       "      <td>...</td>\n",
       "      <td>6</td>\n",
       "      <td>770.0</td>\n",
       "      <td>0</td>\n",
       "      <td>1933</td>\n",
       "      <td>0</td>\n",
       "      <td>98028</td>\n",
       "      <td>47.7379</td>\n",
       "      <td>-122.233</td>\n",
       "      <td>2720</td>\n",
       "      <td>8062</td>\n",
       "    </tr>\n",
       "    <tr>\n",
       "      <th>3</th>\n",
       "      <td>2487200875</td>\n",
       "      <td>20141209T000000</td>\n",
       "      <td>604000.0</td>\n",
       "      <td>4</td>\n",
       "      <td>3.00</td>\n",
       "      <td>1960</td>\n",
       "      <td>5000</td>\n",
       "      <td>1.0</td>\n",
       "      <td>0</td>\n",
       "      <td>0</td>\n",
       "      <td>...</td>\n",
       "      <td>7</td>\n",
       "      <td>1050.0</td>\n",
       "      <td>910</td>\n",
       "      <td>1965</td>\n",
       "      <td>0</td>\n",
       "      <td>98136</td>\n",
       "      <td>47.5208</td>\n",
       "      <td>-122.393</td>\n",
       "      <td>1360</td>\n",
       "      <td>5000</td>\n",
       "    </tr>\n",
       "    <tr>\n",
       "      <th>4</th>\n",
       "      <td>1954400510</td>\n",
       "      <td>20150218T000000</td>\n",
       "      <td>510000.0</td>\n",
       "      <td>3</td>\n",
       "      <td>2.00</td>\n",
       "      <td>1680</td>\n",
       "      <td>8080</td>\n",
       "      <td>1.0</td>\n",
       "      <td>0</td>\n",
       "      <td>0</td>\n",
       "      <td>...</td>\n",
       "      <td>8</td>\n",
       "      <td>1680.0</td>\n",
       "      <td>0</td>\n",
       "      <td>1987</td>\n",
       "      <td>0</td>\n",
       "      <td>98074</td>\n",
       "      <td>47.6168</td>\n",
       "      <td>-122.045</td>\n",
       "      <td>1800</td>\n",
       "      <td>7503</td>\n",
       "    </tr>\n",
       "  </tbody>\n",
       "</table>\n",
       "<p>5 rows × 21 columns</p>\n",
       "</div>"
      ],
      "text/plain": [
       "           id             date     price  bedrooms  bathrooms  sqft_living  \\\n",
       "0  7129300520  20141013T000000  221900.0         3       1.00         1180   \n",
       "1  6414100192  20141209T000000  538000.0         3       2.25         2570   \n",
       "2  5631500400  20150225T000000  180000.0         2       1.00          770   \n",
       "3  2487200875  20141209T000000  604000.0         4       3.00         1960   \n",
       "4  1954400510  20150218T000000  510000.0         3       2.00         1680   \n",
       "\n",
       "   sqft_lot  floors  waterfront  view  ...  grade  sqft_above  sqft_basement  \\\n",
       "0      5650     1.0           0     0  ...      7      1180.0              0   \n",
       "1      7242     2.0           0     0  ...      7      2170.0            400   \n",
       "2     10000     1.0           0     0  ...      6       770.0              0   \n",
       "3      5000     1.0           0     0  ...      7      1050.0            910   \n",
       "4      8080     1.0           0     0  ...      8      1680.0              0   \n",
       "\n",
       "   yr_built  yr_renovated  zipcode      lat     long  sqft_living15  \\\n",
       "0      1955             0    98178  47.5112 -122.257           1340   \n",
       "1      1951          1991    98125  47.7210 -122.319           1690   \n",
       "2      1933             0    98028  47.7379 -122.233           2720   \n",
       "3      1965             0    98136  47.5208 -122.393           1360   \n",
       "4      1987             0    98074  47.6168 -122.045           1800   \n",
       "\n",
       "   sqft_lot15  \n",
       "0        5650  \n",
       "1        7639  \n",
       "2        8062  \n",
       "3        5000  \n",
       "4        7503  \n",
       "\n",
       "[5 rows x 21 columns]"
      ]
     },
     "execution_count": 3,
     "metadata": {},
     "output_type": "execute_result"
    }
   ],
   "source": [
    "data.head()"
   ]
  },
  {
   "cell_type": "markdown",
   "id": "e32b453a-0133-4677-86c6-629cfcd0c027",
   "metadata": {},
   "source": [
    "# 1.0 RESPONDENDO AS PERGUNTAS DO CEO"
   ]
  },
  {
   "cell_type": "markdown",
   "id": "ee8397b0-5379-402e-b9a5-8ba801f48780",
   "metadata": {},
   "source": [
    "### 1. Quantas casas estão disponíveis para compra?"
   ]
  },
  {
   "cell_type": "code",
   "execution_count": 4,
   "id": "c182547f-e925-480c-8632-3104f6ec3e71",
   "metadata": {},
   "outputs": [
    {
     "name": "stdout",
     "output_type": "stream",
     "text": [
      "o numero de casas disponiveis é de 21436\n"
     ]
    }
   ],
   "source": [
    "houses = len( data['id'].unique() )\n",
    "print('o numero de casas disponiveis é de {}' .format(houses))"
   ]
  },
  {
   "cell_type": "markdown",
   "id": "abe98265-ba7d-4fe6-b206-49e7b2c94b6f",
   "metadata": {},
   "source": [
    "### 2. Quantos atributos as casas possuem?"
   ]
  },
  {
   "cell_type": "code",
   "execution_count": 5,
   "id": "ac75c8e1-85bc-4ae2-a7a5-1fccfb51f975",
   "metadata": {},
   "outputs": [
    {
     "name": "stdout",
     "output_type": "stream",
     "text": [
      "o numero de atributos é de 19\n"
     ]
    }
   ],
   "source": [
    "atributos = len( data.drop( (['id','date']), axis=1 ).columns)\n",
    "print('o numero de atributos é de {}' .format(atributos))\n"
   ]
  },
  {
   "cell_type": "markdown",
   "id": "df63a695-9685-4345-ae97-2522cfe24dc3",
   "metadata": {},
   "source": [
    "### 3. Quais são os atributos das casas?"
   ]
  },
  {
   "cell_type": "code",
   "execution_count": 6,
   "id": "00281baf-2828-4cb0-8a57-cb51ea5e7911",
   "metadata": {},
   "outputs": [
    {
     "data": {
      "text/plain": [
       "Index(['price', 'bedrooms', 'bathrooms', 'sqft_living', 'sqft_lot', 'floors',\n",
       "       'waterfront', 'view', 'condition', 'grade', 'sqft_above',\n",
       "       'sqft_basement', 'yr_built', 'yr_renovated', 'zipcode', 'lat', 'long',\n",
       "       'sqft_living15', 'sqft_lot15'],\n",
       "      dtype='object')"
      ]
     },
     "execution_count": 6,
     "metadata": {},
     "output_type": "execute_result"
    }
   ],
   "source": [
    "df = data.drop( (['id','date']), axis=1 ).columns\n",
    "df"
   ]
  },
  {
   "cell_type": "markdown",
   "id": "0d523bc9-dba1-455d-a484-02c5318a626e",
   "metadata": {},
   "source": [
    "### 4. Qual a casa mais cara ( casa com o maior valor de venda )?"
   ]
  },
  {
   "cell_type": "code",
   "execution_count": 7,
   "id": "44e555aa-a392-4b17-83c9-f539727e15bd",
   "metadata": {},
   "outputs": [
    {
     "data": {
      "text/plain": [
       "7129300520"
      ]
     },
     "execution_count": 7,
     "metadata": {},
     "output_type": "execute_result"
    }
   ],
   "source": [
    "house_expensive = data[['id','price']].sort_values('price', ascending = False). loc[0, 'id']\n",
    "house_expensive\n"
   ]
  },
  {
   "cell_type": "markdown",
   "id": "53d46c2e-bfcc-4a3b-89a0-956b542239d9",
   "metadata": {},
   "source": [
    "### 5. Qual a casa com o maior número de quartos?"
   ]
  },
  {
   "cell_type": "code",
   "execution_count": 8,
   "id": "dada6977-3232-4faa-822e-56f671e3508e",
   "metadata": {},
   "outputs": [
    {
     "data": {
      "text/html": [
       "<div>\n",
       "<style scoped>\n",
       "    .dataframe tbody tr th:only-of-type {\n",
       "        vertical-align: middle;\n",
       "    }\n",
       "\n",
       "    .dataframe tbody tr th {\n",
       "        vertical-align: top;\n",
       "    }\n",
       "\n",
       "    .dataframe thead th {\n",
       "        text-align: right;\n",
       "    }\n",
       "</style>\n",
       "<table border=\"1\" class=\"dataframe\">\n",
       "  <thead>\n",
       "    <tr style=\"text-align: right;\">\n",
       "      <th></th>\n",
       "      <th>id</th>\n",
       "      <th>bedrooms</th>\n",
       "    </tr>\n",
       "  </thead>\n",
       "  <tbody>\n",
       "    <tr>\n",
       "      <th>15870</th>\n",
       "      <td>2402100895</td>\n",
       "      <td>33</td>\n",
       "    </tr>\n",
       "    <tr>\n",
       "      <th>8757</th>\n",
       "      <td>1773100755</td>\n",
       "      <td>11</td>\n",
       "    </tr>\n",
       "    <tr>\n",
       "      <th>15161</th>\n",
       "      <td>5566100170</td>\n",
       "      <td>10</td>\n",
       "    </tr>\n",
       "    <tr>\n",
       "      <th>13314</th>\n",
       "      <td>627300145</td>\n",
       "      <td>10</td>\n",
       "    </tr>\n",
       "    <tr>\n",
       "      <th>19254</th>\n",
       "      <td>8812401450</td>\n",
       "      <td>10</td>\n",
       "    </tr>\n",
       "    <tr>\n",
       "      <th>...</th>\n",
       "      <td>...</td>\n",
       "      <td>...</td>\n",
       "    </tr>\n",
       "    <tr>\n",
       "      <th>19452</th>\n",
       "      <td>3980300371</td>\n",
       "      <td>0</td>\n",
       "    </tr>\n",
       "    <tr>\n",
       "      <th>8484</th>\n",
       "      <td>2310060040</td>\n",
       "      <td>0</td>\n",
       "    </tr>\n",
       "    <tr>\n",
       "      <th>875</th>\n",
       "      <td>6306400140</td>\n",
       "      <td>0</td>\n",
       "    </tr>\n",
       "    <tr>\n",
       "      <th>8477</th>\n",
       "      <td>2569500210</td>\n",
       "      <td>0</td>\n",
       "    </tr>\n",
       "    <tr>\n",
       "      <th>9773</th>\n",
       "      <td>3374500520</td>\n",
       "      <td>0</td>\n",
       "    </tr>\n",
       "  </tbody>\n",
       "</table>\n",
       "<p>21613 rows × 2 columns</p>\n",
       "</div>"
      ],
      "text/plain": [
       "               id  bedrooms\n",
       "15870  2402100895        33\n",
       "8757   1773100755        11\n",
       "15161  5566100170        10\n",
       "13314   627300145        10\n",
       "19254  8812401450        10\n",
       "...           ...       ...\n",
       "19452  3980300371         0\n",
       "8484   2310060040         0\n",
       "875    6306400140         0\n",
       "8477   2569500210         0\n",
       "9773   3374500520         0\n",
       "\n",
       "[21613 rows x 2 columns]"
      ]
     },
     "execution_count": 8,
     "metadata": {},
     "output_type": "execute_result"
    }
   ],
   "source": [
    "df= data[['id', 'bedrooms']].sort_values('bedrooms', ascending = False)\n",
    "df"
   ]
  },
  {
   "cell_type": "markdown",
   "id": "25279043-9265-40a2-8237-ae14cd28df14",
   "metadata": {},
   "source": [
    "### 6. Qual a soma total de quartos do conjunto de dados?"
   ]
  },
  {
   "cell_type": "code",
   "execution_count": 9,
   "id": "2338b296-6d43-43b0-b5b5-adc384af626c",
   "metadata": {},
   "outputs": [
    {
     "data": {
      "text/plain": [
       "72854"
      ]
     },
     "execution_count": 9,
     "metadata": {},
     "output_type": "execute_result"
    }
   ],
   "source": [
    "data['bedrooms'].sum()"
   ]
  },
  {
   "cell_type": "markdown",
   "id": "a03afb38-b140-4a0c-8f9b-362988329199",
   "metadata": {},
   "source": [
    "### 7. Quantas casas possuem 2 banheiros?"
   ]
  },
  {
   "cell_type": "code",
   "execution_count": 10,
   "id": "6ef56192-da4c-4239-9ba1-573c4b8d15ac",
   "metadata": {},
   "outputs": [
    {
     "data": {
      "text/plain": [
       "1930"
      ]
     },
     "execution_count": 10,
     "metadata": {},
     "output_type": "execute_result"
    }
   ],
   "source": [
    "df = data.loc[data ['bathrooms'] == 2, :]\n",
    "num_houses = len (df)\n",
    "num_houses"
   ]
  },
  {
   "cell_type": "markdown",
   "id": "3e532b53-4ae2-452f-af57-78c553cd6b55",
   "metadata": {},
   "source": [
    "### 8. Qual o preço médio de todas as casas no conjunto de dados?"
   ]
  },
  {
   "cell_type": "code",
   "execution_count": 11,
   "id": "385ed49a-1e36-4c3d-ba8e-c53c5bc31a36",
   "metadata": {},
   "outputs": [
    {
     "data": {
      "text/plain": [
       "540088.14"
      ]
     },
     "execution_count": 11,
     "metadata": {},
     "output_type": "execute_result"
    }
   ],
   "source": [
    "avg_price = np.round ( data ['price'].mean(), 2)\n",
    "avg_price\n"
   ]
  },
  {
   "cell_type": "markdown",
   "id": "d88d3546-13ac-4a4f-aa9c-cd7567d53df7",
   "metadata": {},
   "source": [
    "### 9. Qual o preço médio de casas com 2 banheiros?"
   ]
  },
  {
   "cell_type": "code",
   "execution_count": 12,
   "id": "1b37eea4-2fb3-451c-b43a-70456f6bdbcd",
   "metadata": {},
   "outputs": [
    {
     "data": {
      "text/plain": [
       "457889.72"
      ]
     },
     "execution_count": 12,
     "metadata": {},
     "output_type": "execute_result"
    }
   ],
   "source": [
    "avg_price = np.round( data.loc[data ['bathrooms'] == 2, 'price'].mean(), 2)\n",
    "avg_price"
   ]
  },
  {
   "cell_type": "markdown",
   "id": "21853c45-d8b2-4137-bff8-fb0051292ced",
   "metadata": {},
   "source": [
    "### 10. Qual o preço mínimo entre as casas com 3 quartos?"
   ]
  },
  {
   "cell_type": "code",
   "execution_count": 13,
   "id": "39112e4c-55f1-4f26-8099-388b585b5f40",
   "metadata": {},
   "outputs": [
    {
     "data": {
      "text/plain": [
       "82000.0"
      ]
     },
     "execution_count": 13,
     "metadata": {},
     "output_type": "execute_result"
    }
   ],
   "source": [
    "min_price = np.round( data.loc[data ['bedrooms'] == 3, 'price'].min(), 2)\n",
    "min_price"
   ]
  },
  {
   "cell_type": "markdown",
   "id": "ebddc565-1ca0-4120-9e61-e709c494d72f",
   "metadata": {},
   "source": [
    "### 11. Quantas casas possuem mais de 300 metros quadrados na sala de estar?"
   ]
  },
  {
   "cell_type": "code",
   "execution_count": 14,
   "id": "6e1cf99f-c6e1-4b6a-9db7-3487e6f5677f",
   "metadata": {},
   "outputs": [
    {
     "data": {
      "text/plain": [
       "21612"
      ]
     },
     "execution_count": 14,
     "metadata": {},
     "output_type": "execute_result"
    }
   ],
   "source": [
    "houses = data.loc[data ['sqft_living'] > 300, 'id'].shape [0]\n",
    "houses\n"
   ]
  },
  {
   "cell_type": "markdown",
   "id": "150605d2-e41a-4784-91c9-e832560d2b30",
   "metadata": {},
   "source": [
    "### 12. Quantas casas tem mais de 2 andares?"
   ]
  },
  {
   "cell_type": "code",
   "execution_count": 15,
   "id": "d1cb433d-96b8-4232-bc4f-3c3877a31c9f",
   "metadata": {},
   "outputs": [
    {
     "data": {
      "text/plain": [
       "782"
      ]
     },
     "execution_count": 15,
     "metadata": {},
     "output_type": "execute_result"
    }
   ],
   "source": [
    "houses = data.loc[data ['floors'] > 2, 'id'].shape [0]\n",
    "houses"
   ]
  },
  {
   "cell_type": "markdown",
   "id": "47a1d7ca-c8e7-49d9-a091-db2e50b19436",
   "metadata": {},
   "source": [
    "### 13. Quantas casas tem vista para o mar?"
   ]
  },
  {
   "cell_type": "code",
   "execution_count": 16,
   "id": "b3864f3b-5f1c-422a-bfff-499cd426e27d",
   "metadata": {},
   "outputs": [
    {
     "data": {
      "text/plain": [
       "10680"
      ]
     },
     "execution_count": 16,
     "metadata": {},
     "output_type": "execute_result"
    }
   ],
   "source": [
    "houses = data.loc[data ['floors'] ==1, 'id'].shape [0]\n",
    "houses"
   ]
  },
  {
   "cell_type": "markdown",
   "id": "0786656b-41ab-4beb-bc03-6e1a660ef76f",
   "metadata": {},
   "source": [
    "### 14. Das casas com vista para o mar, quantas tem 3 quartos?"
   ]
  },
  {
   "cell_type": "code",
   "execution_count": 17,
   "id": "ae97988f-2d67-4520-8934-aecc5af32213",
   "metadata": {},
   "outputs": [
    {
     "data": {
      "text/plain": [
       "127"
      ]
     },
     "execution_count": 17,
     "metadata": {},
     "output_type": "execute_result"
    }
   ],
   "source": [
    "houses = data.loc[(data['waterfront'] == 1) & (data['bedrooms'] > 2), 'id'].shape[0]\n",
    "houses"
   ]
  },
  {
   "cell_type": "markdown",
   "id": "ef2d1d54-5ccd-484d-8b5b-7fbcc38da090",
   "metadata": {},
   "source": [
    " ### 15. Das casas com mais de 300 metros quadrados de sala de estar, quantas tem mais de 2 banheiros?"
   ]
  },
  {
   "cell_type": "code",
   "execution_count": 18,
   "id": "e67dbe0b-9049-4e46-8380-7027b41d1634",
   "metadata": {},
   "outputs": [
    {
     "data": {
      "text/plain": [
       "11242"
      ]
     },
     "execution_count": 18,
     "metadata": {},
     "output_type": "execute_result"
    }
   ],
   "source": [
    "houses = data.loc[(data['sqft_living'] > 300) & (data['bathrooms'] > 2), 'id'].shape[0]\n",
    "houses"
   ]
  },
  {
   "cell_type": "markdown",
   "id": "0219c534-6265-46d4-a830-6dc419465b04",
   "metadata": {},
   "source": [
    "# 2.0 Data Types"
   ]
  },
  {
   "cell_type": "code",
   "execution_count": 19,
   "id": "f993d340-229e-4bfb-8c3c-7a97bbb5e1ae",
   "metadata": {},
   "outputs": [
    {
     "data": {
      "text/plain": [
       "id                 int64\n",
       "date              object\n",
       "price            float64\n",
       "bedrooms           int64\n",
       "bathrooms        float64\n",
       "sqft_living        int64\n",
       "sqft_lot           int64\n",
       "floors           float64\n",
       "waterfront         int64\n",
       "view               int64\n",
       "condition          int64\n",
       "grade              int64\n",
       "sqft_above       float64\n",
       "sqft_basement      int64\n",
       "yr_built           int64\n",
       "yr_renovated       int64\n",
       "zipcode            int64\n",
       "lat              float64\n",
       "long             float64\n",
       "sqft_living15      int64\n",
       "sqft_lot15         int64\n",
       "dtype: object"
      ]
     },
     "execution_count": 19,
     "metadata": {},
     "output_type": "execute_result"
    }
   ],
   "source": [
    "data.dtypes"
   ]
  },
  {
   "cell_type": "code",
   "execution_count": 20,
   "id": "43aa0289-010f-493f-b4c3-2ff738b54f7e",
   "metadata": {},
   "outputs": [],
   "source": [
    "data['date'] = pd.to_datetime( data['date'], format='%Y-%m-%d')"
   ]
  },
  {
   "cell_type": "code",
   "execution_count": 21,
   "id": "6155aa67-01bc-44c9-8393-6a1fe098f99d",
   "metadata": {},
   "outputs": [
    {
     "data": {
      "text/plain": [
       "id                        int64\n",
       "date             datetime64[ns]\n",
       "price                   float64\n",
       "bedrooms                  int64\n",
       "bathrooms               float64\n",
       "sqft_living               int64\n",
       "sqft_lot                  int64\n",
       "floors                  float64\n",
       "waterfront                int64\n",
       "view                      int64\n",
       "condition                 int64\n",
       "grade                     int64\n",
       "sqft_above              float64\n",
       "sqft_basement             int64\n",
       "yr_built                  int64\n",
       "yr_renovated              int64\n",
       "zipcode                   int64\n",
       "lat                     float64\n",
       "long                    float64\n",
       "sqft_living15             int64\n",
       "sqft_lot15                int64\n",
       "dtype: object"
      ]
     },
     "execution_count": 21,
     "metadata": {},
     "output_type": "execute_result"
    }
   ],
   "source": [
    "data.dtypes"
   ]
  },
  {
   "cell_type": "code",
   "execution_count": null,
   "id": "a4c414aa-c5de-41cf-b102-5dc9c55a5771",
   "metadata": {},
   "outputs": [],
   "source": []
  }
 ],
 "metadata": {
  "kernelspec": {
   "display_name": "Python 3 (ipykernel)",
   "language": "python",
   "name": "python3"
  },
  "language_info": {
   "codemirror_mode": {
    "name": "ipython",
    "version": 3
   },
   "file_extension": ".py",
   "mimetype": "text/x-python",
   "name": "python",
   "nbconvert_exporter": "python",
   "pygments_lexer": "ipython3",
   "version": "3.9.15"
  }
 },
 "nbformat": 4,
 "nbformat_minor": 5
}
