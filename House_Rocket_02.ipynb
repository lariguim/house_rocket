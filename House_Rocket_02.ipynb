{
 "cells": [
  {
   "cell_type": "markdown",
   "id": "160182bf-0882-405b-83c4-0d1da28c35d6",
   "metadata": {},
   "source": [
    "# 0.0 Imports"
   ]
  },
  {
   "cell_type": "code",
   "execution_count": 65,
   "id": "d0fa22ee-663c-4666-8a7f-f9c39e6cb446",
   "metadata": {},
   "outputs": [],
   "source": [
    "import numpy as np\n",
    "import pandas as pd\n",
    "import seaborn as sns\n",
    "import datetime\n",
    "\n",
    "from matplotlib import pyplot as plt\n",
    "import plotly.express as px"
   ]
  },
  {
   "cell_type": "markdown",
   "id": "df185a84-9757-4890-8d35-58cf29cc5eb4",
   "metadata": {},
   "source": [
    "# 0.1 Load Dataset"
   ]
  },
  {
   "cell_type": "code",
   "execution_count": 150,
   "id": "2ab9813c-82d5-4cc7-b686-ee87828b42e0",
   "metadata": {},
   "outputs": [],
   "source": [
    "data = pd.read_csv('kc_house_data.csv')"
   ]
  },
  {
   "cell_type": "code",
   "execution_count": 151,
   "id": "c7dffd38-3b05-4347-bc10-deb6dcb0b4ab",
   "metadata": {},
   "outputs": [
    {
     "data": {
      "text/html": [
       "<div>\n",
       "<style scoped>\n",
       "    .dataframe tbody tr th:only-of-type {\n",
       "        vertical-align: middle;\n",
       "    }\n",
       "\n",
       "    .dataframe tbody tr th {\n",
       "        vertical-align: top;\n",
       "    }\n",
       "\n",
       "    .dataframe thead th {\n",
       "        text-align: right;\n",
       "    }\n",
       "</style>\n",
       "<table border=\"1\" class=\"dataframe\">\n",
       "  <thead>\n",
       "    <tr style=\"text-align: right;\">\n",
       "      <th></th>\n",
       "      <th>id</th>\n",
       "      <th>date</th>\n",
       "      <th>price</th>\n",
       "      <th>bedrooms</th>\n",
       "      <th>bathrooms</th>\n",
       "      <th>sqft_living</th>\n",
       "      <th>sqft_lot</th>\n",
       "      <th>floors</th>\n",
       "      <th>waterfront</th>\n",
       "      <th>view</th>\n",
       "      <th>...</th>\n",
       "      <th>grade</th>\n",
       "      <th>sqft_above</th>\n",
       "      <th>sqft_basement</th>\n",
       "      <th>yr_built</th>\n",
       "      <th>yr_renovated</th>\n",
       "      <th>zipcode</th>\n",
       "      <th>lat</th>\n",
       "      <th>long</th>\n",
       "      <th>sqft_living15</th>\n",
       "      <th>sqft_lot15</th>\n",
       "    </tr>\n",
       "  </thead>\n",
       "  <tbody>\n",
       "    <tr>\n",
       "      <th>0</th>\n",
       "      <td>7129300520</td>\n",
       "      <td>20141013T000000</td>\n",
       "      <td>221900.0</td>\n",
       "      <td>3</td>\n",
       "      <td>1.00</td>\n",
       "      <td>1180</td>\n",
       "      <td>5650</td>\n",
       "      <td>1.0</td>\n",
       "      <td>0</td>\n",
       "      <td>0</td>\n",
       "      <td>...</td>\n",
       "      <td>7</td>\n",
       "      <td>1180.0</td>\n",
       "      <td>0</td>\n",
       "      <td>1955</td>\n",
       "      <td>0</td>\n",
       "      <td>98178</td>\n",
       "      <td>47.5112</td>\n",
       "      <td>-122.257</td>\n",
       "      <td>1340</td>\n",
       "      <td>5650</td>\n",
       "    </tr>\n",
       "    <tr>\n",
       "      <th>1</th>\n",
       "      <td>6414100192</td>\n",
       "      <td>20141209T000000</td>\n",
       "      <td>538000.0</td>\n",
       "      <td>3</td>\n",
       "      <td>2.25</td>\n",
       "      <td>2570</td>\n",
       "      <td>7242</td>\n",
       "      <td>2.0</td>\n",
       "      <td>0</td>\n",
       "      <td>0</td>\n",
       "      <td>...</td>\n",
       "      <td>7</td>\n",
       "      <td>2170.0</td>\n",
       "      <td>400</td>\n",
       "      <td>1951</td>\n",
       "      <td>1991</td>\n",
       "      <td>98125</td>\n",
       "      <td>47.7210</td>\n",
       "      <td>-122.319</td>\n",
       "      <td>1690</td>\n",
       "      <td>7639</td>\n",
       "    </tr>\n",
       "    <tr>\n",
       "      <th>2</th>\n",
       "      <td>5631500400</td>\n",
       "      <td>20150225T000000</td>\n",
       "      <td>180000.0</td>\n",
       "      <td>2</td>\n",
       "      <td>1.00</td>\n",
       "      <td>770</td>\n",
       "      <td>10000</td>\n",
       "      <td>1.0</td>\n",
       "      <td>0</td>\n",
       "      <td>0</td>\n",
       "      <td>...</td>\n",
       "      <td>6</td>\n",
       "      <td>770.0</td>\n",
       "      <td>0</td>\n",
       "      <td>1933</td>\n",
       "      <td>0</td>\n",
       "      <td>98028</td>\n",
       "      <td>47.7379</td>\n",
       "      <td>-122.233</td>\n",
       "      <td>2720</td>\n",
       "      <td>8062</td>\n",
       "    </tr>\n",
       "    <tr>\n",
       "      <th>3</th>\n",
       "      <td>2487200875</td>\n",
       "      <td>20141209T000000</td>\n",
       "      <td>604000.0</td>\n",
       "      <td>4</td>\n",
       "      <td>3.00</td>\n",
       "      <td>1960</td>\n",
       "      <td>5000</td>\n",
       "      <td>1.0</td>\n",
       "      <td>0</td>\n",
       "      <td>0</td>\n",
       "      <td>...</td>\n",
       "      <td>7</td>\n",
       "      <td>1050.0</td>\n",
       "      <td>910</td>\n",
       "      <td>1965</td>\n",
       "      <td>0</td>\n",
       "      <td>98136</td>\n",
       "      <td>47.5208</td>\n",
       "      <td>-122.393</td>\n",
       "      <td>1360</td>\n",
       "      <td>5000</td>\n",
       "    </tr>\n",
       "    <tr>\n",
       "      <th>4</th>\n",
       "      <td>1954400510</td>\n",
       "      <td>20150218T000000</td>\n",
       "      <td>510000.0</td>\n",
       "      <td>3</td>\n",
       "      <td>2.00</td>\n",
       "      <td>1680</td>\n",
       "      <td>8080</td>\n",
       "      <td>1.0</td>\n",
       "      <td>0</td>\n",
       "      <td>0</td>\n",
       "      <td>...</td>\n",
       "      <td>8</td>\n",
       "      <td>1680.0</td>\n",
       "      <td>0</td>\n",
       "      <td>1987</td>\n",
       "      <td>0</td>\n",
       "      <td>98074</td>\n",
       "      <td>47.6168</td>\n",
       "      <td>-122.045</td>\n",
       "      <td>1800</td>\n",
       "      <td>7503</td>\n",
       "    </tr>\n",
       "  </tbody>\n",
       "</table>\n",
       "<p>5 rows × 21 columns</p>\n",
       "</div>"
      ],
      "text/plain": [
       "           id             date     price  bedrooms  bathrooms  sqft_living  \\\n",
       "0  7129300520  20141013T000000  221900.0         3       1.00         1180   \n",
       "1  6414100192  20141209T000000  538000.0         3       2.25         2570   \n",
       "2  5631500400  20150225T000000  180000.0         2       1.00          770   \n",
       "3  2487200875  20141209T000000  604000.0         4       3.00         1960   \n",
       "4  1954400510  20150218T000000  510000.0         3       2.00         1680   \n",
       "\n",
       "   sqft_lot  floors  waterfront  view  ...  grade  sqft_above  sqft_basement  \\\n",
       "0      5650     1.0           0     0  ...      7      1180.0              0   \n",
       "1      7242     2.0           0     0  ...      7      2170.0            400   \n",
       "2     10000     1.0           0     0  ...      6       770.0              0   \n",
       "3      5000     1.0           0     0  ...      7      1050.0            910   \n",
       "4      8080     1.0           0     0  ...      8      1680.0              0   \n",
       "\n",
       "   yr_built  yr_renovated  zipcode      lat     long  sqft_living15  \\\n",
       "0      1955             0    98178  47.5112 -122.257           1340   \n",
       "1      1951          1991    98125  47.7210 -122.319           1690   \n",
       "2      1933             0    98028  47.7379 -122.233           2720   \n",
       "3      1965             0    98136  47.5208 -122.393           1360   \n",
       "4      1987             0    98074  47.6168 -122.045           1800   \n",
       "\n",
       "   sqft_lot15  \n",
       "0        5650  \n",
       "1        7639  \n",
       "2        8062  \n",
       "3        5000  \n",
       "4        7503  \n",
       "\n",
       "[5 rows x 21 columns]"
      ]
     },
     "execution_count": 151,
     "metadata": {},
     "output_type": "execute_result"
    }
   ],
   "source": [
    "data.head()"
   ]
  },
  {
   "cell_type": "markdown",
   "id": "e32b453a-0133-4677-86c6-629cfcd0c027",
   "metadata": {},
   "source": [
    "# 1.0 RESPONDENDO AS PERGUNTAS DO CEO"
   ]
  },
  {
   "cell_type": "markdown",
   "id": "ee8397b0-5379-402e-b9a5-8ba801f48780",
   "metadata": {},
   "source": [
    "### 1. Quantas casas estão disponíveis para compra?"
   ]
  },
  {
   "cell_type": "code",
   "execution_count": 68,
   "id": "c182547f-e925-480c-8632-3104f6ec3e71",
   "metadata": {},
   "outputs": [
    {
     "name": "stdout",
     "output_type": "stream",
     "text": [
      "o numero de casas disponiveis é de 21436\n"
     ]
    }
   ],
   "source": [
    "houses = len( data['id'].unique() )\n",
    "print('o numero de casas disponiveis é de {}' .format(houses))"
   ]
  },
  {
   "cell_type": "markdown",
   "id": "abe98265-ba7d-4fe6-b206-49e7b2c94b6f",
   "metadata": {},
   "source": [
    "### 2. Quantos atributos as casas possuem?"
   ]
  },
  {
   "cell_type": "code",
   "execution_count": 69,
   "id": "ac75c8e1-85bc-4ae2-a7a5-1fccfb51f975",
   "metadata": {},
   "outputs": [
    {
     "name": "stdout",
     "output_type": "stream",
     "text": [
      "o numero de atributos é de 19\n"
     ]
    }
   ],
   "source": [
    "atributos = len( data.drop( (['id','date']), axis=1 ).columns)\n",
    "print('o numero de atributos é de {}' .format(atributos))\n"
   ]
  },
  {
   "cell_type": "markdown",
   "id": "df63a695-9685-4345-ae97-2522cfe24dc3",
   "metadata": {},
   "source": [
    "### 3. Quais são os atributos das casas?"
   ]
  },
  {
   "cell_type": "code",
   "execution_count": 70,
   "id": "00281baf-2828-4cb0-8a57-cb51ea5e7911",
   "metadata": {},
   "outputs": [
    {
     "data": {
      "text/plain": [
       "Index(['price', 'bedrooms', 'bathrooms', 'sqft_living', 'sqft_lot', 'floors',\n",
       "       'waterfront', 'view', 'condition', 'grade', 'sqft_above',\n",
       "       'sqft_basement', 'yr_built', 'yr_renovated', 'zipcode', 'lat', 'long',\n",
       "       'sqft_living15', 'sqft_lot15'],\n",
       "      dtype='object')"
      ]
     },
     "execution_count": 70,
     "metadata": {},
     "output_type": "execute_result"
    }
   ],
   "source": [
    "df = data.drop( (['id','date']), axis=1 ).columns\n",
    "df"
   ]
  },
  {
   "cell_type": "markdown",
   "id": "0d523bc9-dba1-455d-a484-02c5318a626e",
   "metadata": {},
   "source": [
    "### 4. Qual a casa mais cara ( casa com o maior valor de venda )?"
   ]
  },
  {
   "cell_type": "code",
   "execution_count": 71,
   "id": "44e555aa-a392-4b17-83c9-f539727e15bd",
   "metadata": {},
   "outputs": [
    {
     "data": {
      "text/plain": [
       "7129300520"
      ]
     },
     "execution_count": 71,
     "metadata": {},
     "output_type": "execute_result"
    }
   ],
   "source": [
    "house_expensive = data[['id','price']].sort_values('price', ascending = False). loc[0, 'id']\n",
    "house_expensive\n"
   ]
  },
  {
   "cell_type": "markdown",
   "id": "53d46c2e-bfcc-4a3b-89a0-956b542239d9",
   "metadata": {},
   "source": [
    "### 5. Qual a casa com o maior número de quartos?"
   ]
  },
  {
   "cell_type": "code",
   "execution_count": 72,
   "id": "dada6977-3232-4faa-822e-56f671e3508e",
   "metadata": {},
   "outputs": [
    {
     "data": {
      "text/html": [
       "<div>\n",
       "<style scoped>\n",
       "    .dataframe tbody tr th:only-of-type {\n",
       "        vertical-align: middle;\n",
       "    }\n",
       "\n",
       "    .dataframe tbody tr th {\n",
       "        vertical-align: top;\n",
       "    }\n",
       "\n",
       "    .dataframe thead th {\n",
       "        text-align: right;\n",
       "    }\n",
       "</style>\n",
       "<table border=\"1\" class=\"dataframe\">\n",
       "  <thead>\n",
       "    <tr style=\"text-align: right;\">\n",
       "      <th></th>\n",
       "      <th>id</th>\n",
       "      <th>bedrooms</th>\n",
       "    </tr>\n",
       "  </thead>\n",
       "  <tbody>\n",
       "    <tr>\n",
       "      <th>15870</th>\n",
       "      <td>2402100895</td>\n",
       "      <td>33</td>\n",
       "    </tr>\n",
       "    <tr>\n",
       "      <th>8757</th>\n",
       "      <td>1773100755</td>\n",
       "      <td>11</td>\n",
       "    </tr>\n",
       "    <tr>\n",
       "      <th>15161</th>\n",
       "      <td>5566100170</td>\n",
       "      <td>10</td>\n",
       "    </tr>\n",
       "    <tr>\n",
       "      <th>13314</th>\n",
       "      <td>627300145</td>\n",
       "      <td>10</td>\n",
       "    </tr>\n",
       "    <tr>\n",
       "      <th>19254</th>\n",
       "      <td>8812401450</td>\n",
       "      <td>10</td>\n",
       "    </tr>\n",
       "    <tr>\n",
       "      <th>...</th>\n",
       "      <td>...</td>\n",
       "      <td>...</td>\n",
       "    </tr>\n",
       "    <tr>\n",
       "      <th>19452</th>\n",
       "      <td>3980300371</td>\n",
       "      <td>0</td>\n",
       "    </tr>\n",
       "    <tr>\n",
       "      <th>8484</th>\n",
       "      <td>2310060040</td>\n",
       "      <td>0</td>\n",
       "    </tr>\n",
       "    <tr>\n",
       "      <th>875</th>\n",
       "      <td>6306400140</td>\n",
       "      <td>0</td>\n",
       "    </tr>\n",
       "    <tr>\n",
       "      <th>8477</th>\n",
       "      <td>2569500210</td>\n",
       "      <td>0</td>\n",
       "    </tr>\n",
       "    <tr>\n",
       "      <th>9773</th>\n",
       "      <td>3374500520</td>\n",
       "      <td>0</td>\n",
       "    </tr>\n",
       "  </tbody>\n",
       "</table>\n",
       "<p>21613 rows × 2 columns</p>\n",
       "</div>"
      ],
      "text/plain": [
       "               id  bedrooms\n",
       "15870  2402100895        33\n",
       "8757   1773100755        11\n",
       "15161  5566100170        10\n",
       "13314   627300145        10\n",
       "19254  8812401450        10\n",
       "...           ...       ...\n",
       "19452  3980300371         0\n",
       "8484   2310060040         0\n",
       "875    6306400140         0\n",
       "8477   2569500210         0\n",
       "9773   3374500520         0\n",
       "\n",
       "[21613 rows x 2 columns]"
      ]
     },
     "execution_count": 72,
     "metadata": {},
     "output_type": "execute_result"
    }
   ],
   "source": [
    "df= data[['id', 'bedrooms']].sort_values('bedrooms', ascending = False)\n",
    "df"
   ]
  },
  {
   "cell_type": "markdown",
   "id": "25279043-9265-40a2-8237-ae14cd28df14",
   "metadata": {},
   "source": [
    "### 6. Qual a soma total de quartos do conjunto de dados?"
   ]
  },
  {
   "cell_type": "code",
   "execution_count": 73,
   "id": "2338b296-6d43-43b0-b5b5-adc384af626c",
   "metadata": {},
   "outputs": [
    {
     "data": {
      "text/plain": [
       "72854"
      ]
     },
     "execution_count": 73,
     "metadata": {},
     "output_type": "execute_result"
    }
   ],
   "source": [
    "data['bedrooms'].sum()"
   ]
  },
  {
   "cell_type": "markdown",
   "id": "a03afb38-b140-4a0c-8f9b-362988329199",
   "metadata": {},
   "source": [
    "### 7. Quantas casas possuem 2 banheiros?"
   ]
  },
  {
   "cell_type": "code",
   "execution_count": 74,
   "id": "6ef56192-da4c-4239-9ba1-573c4b8d15ac",
   "metadata": {},
   "outputs": [
    {
     "data": {
      "text/plain": [
       "1930"
      ]
     },
     "execution_count": 74,
     "metadata": {},
     "output_type": "execute_result"
    }
   ],
   "source": [
    "df = data.loc[data ['bathrooms'] == 2, :]\n",
    "num_houses = len (df)\n",
    "num_houses"
   ]
  },
  {
   "cell_type": "markdown",
   "id": "3e532b53-4ae2-452f-af57-78c553cd6b55",
   "metadata": {},
   "source": [
    "### 8. Qual o preço médio de todas as casas no conjunto de dados?"
   ]
  },
  {
   "cell_type": "code",
   "execution_count": 75,
   "id": "385ed49a-1e36-4c3d-ba8e-c53c5bc31a36",
   "metadata": {},
   "outputs": [
    {
     "data": {
      "text/plain": [
       "540088.14"
      ]
     },
     "execution_count": 75,
     "metadata": {},
     "output_type": "execute_result"
    }
   ],
   "source": [
    "avg_price = np.round ( data ['price'].mean(), 2)\n",
    "avg_price\n"
   ]
  },
  {
   "cell_type": "markdown",
   "id": "d88d3546-13ac-4a4f-aa9c-cd7567d53df7",
   "metadata": {},
   "source": [
    "### 9. Qual o preço médio de casas com 2 banheiros?"
   ]
  },
  {
   "cell_type": "code",
   "execution_count": 76,
   "id": "1b37eea4-2fb3-451c-b43a-70456f6bdbcd",
   "metadata": {},
   "outputs": [
    {
     "data": {
      "text/plain": [
       "457889.72"
      ]
     },
     "execution_count": 76,
     "metadata": {},
     "output_type": "execute_result"
    }
   ],
   "source": [
    "avg_price = np.round( data.loc[data ['bathrooms'] == 2, 'price'].mean(), 2)\n",
    "avg_price"
   ]
  },
  {
   "cell_type": "markdown",
   "id": "21853c45-d8b2-4137-bff8-fb0051292ced",
   "metadata": {},
   "source": [
    "### 10. Qual o preço mínimo entre as casas com 3 quartos?"
   ]
  },
  {
   "cell_type": "code",
   "execution_count": 77,
   "id": "39112e4c-55f1-4f26-8099-388b585b5f40",
   "metadata": {},
   "outputs": [
    {
     "data": {
      "text/plain": [
       "82000.0"
      ]
     },
     "execution_count": 77,
     "metadata": {},
     "output_type": "execute_result"
    }
   ],
   "source": [
    "min_price = np.round( data.loc[data ['bedrooms'] == 3, 'price'].min(), 2)\n",
    "min_price"
   ]
  },
  {
   "cell_type": "markdown",
   "id": "ebddc565-1ca0-4120-9e61-e709c494d72f",
   "metadata": {},
   "source": [
    "### 11. Quantas casas possuem mais de 300 metros quadrados na sala de estar?"
   ]
  },
  {
   "cell_type": "code",
   "execution_count": 78,
   "id": "6e1cf99f-c6e1-4b6a-9db7-3487e6f5677f",
   "metadata": {},
   "outputs": [
    {
     "data": {
      "text/plain": [
       "21612"
      ]
     },
     "execution_count": 78,
     "metadata": {},
     "output_type": "execute_result"
    }
   ],
   "source": [
    "houses = data.loc[data ['sqft_living'] > 300, 'id'].shape [0]\n",
    "houses\n"
   ]
  },
  {
   "cell_type": "markdown",
   "id": "150605d2-e41a-4784-91c9-e832560d2b30",
   "metadata": {},
   "source": [
    "### 12. Quantas casas tem mais de 2 andares?"
   ]
  },
  {
   "cell_type": "code",
   "execution_count": 79,
   "id": "d1cb433d-96b8-4232-bc4f-3c3877a31c9f",
   "metadata": {},
   "outputs": [
    {
     "data": {
      "text/plain": [
       "782"
      ]
     },
     "execution_count": 79,
     "metadata": {},
     "output_type": "execute_result"
    }
   ],
   "source": [
    "houses = data.loc[data ['floors'] > 2, 'id'].shape [0]\n",
    "houses"
   ]
  },
  {
   "cell_type": "markdown",
   "id": "47a1d7ca-c8e7-49d9-a091-db2e50b19436",
   "metadata": {},
   "source": [
    "### 13. Quantas casas tem vista para o mar?"
   ]
  },
  {
   "cell_type": "code",
   "execution_count": 80,
   "id": "b3864f3b-5f1c-422a-bfff-499cd426e27d",
   "metadata": {},
   "outputs": [
    {
     "data": {
      "text/plain": [
       "10680"
      ]
     },
     "execution_count": 80,
     "metadata": {},
     "output_type": "execute_result"
    }
   ],
   "source": [
    "houses = data.loc[data ['floors'] ==1, 'id'].shape [0]\n",
    "houses"
   ]
  },
  {
   "cell_type": "markdown",
   "id": "0786656b-41ab-4beb-bc03-6e1a660ef76f",
   "metadata": {},
   "source": [
    "### 14. Das casas com vista para o mar, quantas tem 3 quartos?"
   ]
  },
  {
   "cell_type": "code",
   "execution_count": 81,
   "id": "ae97988f-2d67-4520-8934-aecc5af32213",
   "metadata": {},
   "outputs": [
    {
     "data": {
      "text/plain": [
       "127"
      ]
     },
     "execution_count": 81,
     "metadata": {},
     "output_type": "execute_result"
    }
   ],
   "source": [
    "houses = data.loc[(data['waterfront'] == 1) & (data['bedrooms'] > 2), 'id'].shape[0]\n",
    "houses"
   ]
  },
  {
   "cell_type": "markdown",
   "id": "ef2d1d54-5ccd-484d-8b5b-7fbcc38da090",
   "metadata": {},
   "source": [
    " ### 15. Das casas com mais de 300 metros quadrados de sala de estar, quantas tem mais de 2 banheiros?"
   ]
  },
  {
   "cell_type": "code",
   "execution_count": 82,
   "id": "e67dbe0b-9049-4e46-8380-7027b41d1634",
   "metadata": {},
   "outputs": [
    {
     "data": {
      "text/plain": [
       "11242"
      ]
     },
     "execution_count": 82,
     "metadata": {},
     "output_type": "execute_result"
    }
   ],
   "source": [
    "houses = data.loc[(data['sqft_living'] > 300) & (data['bathrooms'] > 2), 'id'].shape[0]\n",
    "houses"
   ]
  },
  {
   "cell_type": "markdown",
   "id": "0219c534-6265-46d4-a830-6dc419465b04",
   "metadata": {},
   "source": [
    "# 2.0 Data Types"
   ]
  },
  {
   "cell_type": "code",
   "execution_count": 152,
   "id": "f993d340-229e-4bfb-8c3c-7a97bbb5e1ae",
   "metadata": {},
   "outputs": [
    {
     "data": {
      "text/plain": [
       "id                 int64\n",
       "date              object\n",
       "price            float64\n",
       "bedrooms           int64\n",
       "bathrooms        float64\n",
       "sqft_living        int64\n",
       "sqft_lot           int64\n",
       "floors           float64\n",
       "waterfront         int64\n",
       "view               int64\n",
       "condition          int64\n",
       "grade              int64\n",
       "sqft_above       float64\n",
       "sqft_basement      int64\n",
       "yr_built           int64\n",
       "yr_renovated       int64\n",
       "zipcode            int64\n",
       "lat              float64\n",
       "long             float64\n",
       "sqft_living15      int64\n",
       "sqft_lot15         int64\n",
       "dtype: object"
      ]
     },
     "execution_count": 152,
     "metadata": {},
     "output_type": "execute_result"
    }
   ],
   "source": [
    "data.dtypes"
   ]
  },
  {
   "cell_type": "code",
   "execution_count": 153,
   "id": "43aa0289-010f-493f-b4c3-2ff738b54f7e",
   "metadata": {},
   "outputs": [],
   "source": [
    "data['date'] = pd.to_datetime( data['date'], format='%Y-%m-%d')"
   ]
  },
  {
   "cell_type": "code",
   "execution_count": 154,
   "id": "6155aa67-01bc-44c9-8393-6a1fe098f99d",
   "metadata": {},
   "outputs": [
    {
     "data": {
      "text/plain": [
       "id                        int64\n",
       "date             datetime64[ns]\n",
       "price                   float64\n",
       "bedrooms                  int64\n",
       "bathrooms               float64\n",
       "sqft_living               int64\n",
       "sqft_lot                  int64\n",
       "floors                  float64\n",
       "waterfront                int64\n",
       "view                      int64\n",
       "condition                 int64\n",
       "grade                     int64\n",
       "sqft_above              float64\n",
       "sqft_basement             int64\n",
       "yr_built                  int64\n",
       "yr_renovated              int64\n",
       "zipcode                   int64\n",
       "lat                     float64\n",
       "long                    float64\n",
       "sqft_living15             int64\n",
       "sqft_lot15                int64\n",
       "dtype: object"
      ]
     },
     "execution_count": 154,
     "metadata": {},
     "output_type": "execute_result"
    }
   ],
   "source": [
    "data.dtypes"
   ]
  },
  {
   "cell_type": "markdown",
   "id": "a4572502-4c19-42dc-8d85-2fc3974ca2f9",
   "metadata": {},
   "source": [
    "# 2.1.0 NOVAS PERGUNTAS DO CEO"
   ]
  },
  {
   "cell_type": "markdown",
   "id": "2461156a-f5c6-482d-bbf1-02008a71f532",
   "metadata": {},
   "source": [
    "#### 2.1.1 Crie uma nova coluna chamada: “house_age”\n"
   ]
  },
  {
   "cell_type": "raw",
   "id": "9eb72e0d-38d4-4b0e-81b9-dbd97be006bd",
   "metadata": {},
   "source": [
    "• Se o valor da coluna “date” for maior que 2014-01-01 => ‘new_house’;\n",
    "• Se o valor da coluna “date” for menor que 2014-01-01 => ‘old_house’\n"
   ]
  },
  {
   "cell_type": "code",
   "execution_count": 155,
   "id": "85e550c0-098c-4242-bda8-320d261fb1f6",
   "metadata": {},
   "outputs": [
    {
     "data": {
      "text/plain": [
       "0        new_house\n",
       "1        new_house\n",
       "2        new_house\n",
       "3        new_house\n",
       "4        new_house\n",
       "           ...    \n",
       "21608    new_house\n",
       "21609    new_house\n",
       "21610    new_house\n",
       "21611    new_house\n",
       "21612    new_house\n",
       "Name: house_age, Length: 21613, dtype: object"
      ]
     },
     "execution_count": 155,
     "metadata": {},
     "output_type": "execute_result"
    }
   ],
   "source": [
    "data['house_age'] = 'NA' \n",
    "data.loc[ data['date'] > '2014-01-01', 'house_age' ] = 'new_house'\n",
    "data.loc[ data['date'] < '2014-01-01', 'house_age' ] = 'old_house'\n",
    "data['house_age']"
   ]
  },
  {
   "cell_type": "markdown",
   "id": "b0aaf98a-3f0e-4df7-99bd-efd4d212b3ef",
   "metadata": {},
   "source": [
    "#### 2.1.2 Crie uma nova coluna chamada: “dormitory_type”\n"
   ]
  },
  {
   "cell_type": "raw",
   "id": "1ac591a7-6719-4821-8fb3-19fe7dee5317",
   "metadata": {},
   "source": [
    "• Se o valor da coluna “bedrooms” for igual à 1 => ‘studio’\n",
    "• Se o valor da coluna “bedrooms” for igual a 2 => ‘apartament’\n",
    "• Se o valor da coluna “bedrooms” for maior que 2 => ‘house’\n"
   ]
  },
  {
   "cell_type": "code",
   "execution_count": 156,
   "id": "19322e64-5b52-4405-b0e0-4972bab36ac8",
   "metadata": {},
   "outputs": [
    {
     "data": {
      "text/plain": [
       "0            house\n",
       "1            house\n",
       "2        apartment\n",
       "3            house\n",
       "4            house\n",
       "           ...    \n",
       "21608        house\n",
       "21609        house\n",
       "21610    apartment\n",
       "21611        house\n",
       "21612    apartment\n",
       "Name: dormitory_type, Length: 21613, dtype: object"
      ]
     },
     "execution_count": 156,
     "metadata": {},
     "output_type": "execute_result"
    }
   ],
   "source": [
    "# 1. Criar uma coluna nova, preenchida com NA\n",
    "# 2. Percorrer todas as linhas do conjunto de dados. Para cada linha, comparar a coluna \"bedrooms\"\n",
    "# 3. De acordo com a comparação, substituir o NA pelo dado valor\n",
    "\n",
    "\n",
    "data['dormitory_type'] = 'NA'\n",
    "for i in range( len( data ) ):\n",
    "    if data.loc[i, 'bedrooms'] == 1:\n",
    "        data.loc[i, 'dormitory_type'] = 'studio'\n",
    "\n",
    "    elif data.loc[i, 'bedrooms'] == 2:\n",
    "        data.loc[i, 'dormitory_type'] = 'apartment'\n",
    "\n",
    "    elif data.loc[i, 'bedrooms'] > 2:\n",
    "        data.loc[i, 'dormitory_type'] = 'house'\n",
    " \n",
    "data['dormitory_type']"
   ]
  },
  {
   "cell_type": "markdown",
   "id": "f616047b-049c-47b5-b9af-8c78ea51e247",
   "metadata": {},
   "source": [
    "#### 2.1.3 Crie uma nova coluna chamada: “conditional_type”\n"
   ]
  },
  {
   "cell_type": "raw",
   "id": "9bd8953f-f153-4f1c-aea3-a0838658792b",
   "metadata": {},
   "source": [
    "- Se o valor da coluna “condition” for menor ou igual à 2 => ‘bad’\n",
    "- Se o valor da coluna “condition” for igual à 3 ou 4 => ‘regular’\n",
    "- Se o valor da coluna “condition” for igual à 5 => ‘good’"
   ]
  },
  {
   "cell_type": "code",
   "execution_count": 157,
   "id": "a42ef0f1-fcdd-43ba-bccc-16bb38213398",
   "metadata": {},
   "outputs": [
    {
     "data": {
      "text/plain": [
       "0        regular\n",
       "1        regular\n",
       "2        regular\n",
       "3           good\n",
       "4        regular\n",
       "          ...   \n",
       "21608    regular\n",
       "21609    regular\n",
       "21610    regular\n",
       "21611    regular\n",
       "21612    regular\n",
       "Name: conditional_type, Length: 21613, dtype: object"
      ]
     },
     "execution_count": 157,
     "metadata": {},
     "output_type": "execute_result"
    }
   ],
   "source": [
    " # Estrategia:\n",
    "# 1. Usar a função apply junto com a lambda para ter acesso a cada linha.\n",
    "# 2. Em cada linha, comparar a coluna \"condition\" com a condição dada.\n",
    "# 3. Aplicar a condição\n",
    "\n",
    "data['condition'] = data ['condition'].astype( int )\n",
    "data['conditional_type'] = data ['condition'].apply ( lambda x: 'bad' if x <=2 else 'regular' if (x==3)| (x==4) else 'good' )\n",
    "data['conditional_type']"
   ]
  },
  {
   "cell_type": "markdown",
   "id": "51e8848a-faa4-4fed-8b8b-e3bd9698692d",
   "metadata": {},
   "source": [
    "#### 2.1.4 Modifique o TIPO a Coluna “condition” para STRING\n"
   ]
  },
  {
   "cell_type": "code",
   "execution_count": 158,
   "id": "a7d5effd-594b-46f0-b7c1-61be08578979",
   "metadata": {},
   "outputs": [
    {
     "data": {
      "text/plain": [
       "condition    int32\n",
       "id           int64\n",
       "dtype: object"
      ]
     },
     "execution_count": 158,
     "metadata": {},
     "output_type": "execute_result"
    }
   ],
   "source": [
    "data[ ['condition', 'id' ]].dtypes"
   ]
  },
  {
   "cell_type": "code",
   "execution_count": 159,
   "id": "9e9c67d9-4a4d-466b-9bd5-b6e4e2312f13",
   "metadata": {},
   "outputs": [
    {
     "data": {
      "text/plain": [
       "condition    object\n",
       "id            int64\n",
       "dtype: object"
      ]
     },
     "execution_count": 159,
     "metadata": {},
     "output_type": "execute_result"
    }
   ],
   "source": [
    "data['condition'] = data ['condition'].astype( str )\n",
    "data[ ['condition', 'id' ]].dtypes"
   ]
  },
  {
   "cell_type": "markdown",
   "id": "99c9d38e-42ad-430c-87c5-ecdbe79d3b0a",
   "metadata": {},
   "source": [
    "#### 2.1.5  Delete as colunas: “sqft_living15” e “sqft_lot15”\n"
   ]
  },
  {
   "cell_type": "code",
   "execution_count": 160,
   "id": "a5f1f8db-7cd3-4d12-8561-5f80d896ca2f",
   "metadata": {},
   "outputs": [
    {
     "data": {
      "text/html": [
       "<div>\n",
       "<style scoped>\n",
       "    .dataframe tbody tr th:only-of-type {\n",
       "        vertical-align: middle;\n",
       "    }\n",
       "\n",
       "    .dataframe tbody tr th {\n",
       "        vertical-align: top;\n",
       "    }\n",
       "\n",
       "    .dataframe thead th {\n",
       "        text-align: right;\n",
       "    }\n",
       "</style>\n",
       "<table border=\"1\" class=\"dataframe\">\n",
       "  <thead>\n",
       "    <tr style=\"text-align: right;\">\n",
       "      <th></th>\n",
       "      <th>id</th>\n",
       "      <th>date</th>\n",
       "      <th>price</th>\n",
       "      <th>bedrooms</th>\n",
       "      <th>bathrooms</th>\n",
       "      <th>sqft_living</th>\n",
       "      <th>sqft_lot</th>\n",
       "      <th>floors</th>\n",
       "      <th>waterfront</th>\n",
       "      <th>view</th>\n",
       "      <th>...</th>\n",
       "      <th>sqft_above</th>\n",
       "      <th>sqft_basement</th>\n",
       "      <th>yr_built</th>\n",
       "      <th>yr_renovated</th>\n",
       "      <th>zipcode</th>\n",
       "      <th>lat</th>\n",
       "      <th>long</th>\n",
       "      <th>house_age</th>\n",
       "      <th>dormitory_type</th>\n",
       "      <th>conditional_type</th>\n",
       "    </tr>\n",
       "  </thead>\n",
       "  <tbody>\n",
       "    <tr>\n",
       "      <th>0</th>\n",
       "      <td>7129300520</td>\n",
       "      <td>2014-10-13</td>\n",
       "      <td>221900.0</td>\n",
       "      <td>3</td>\n",
       "      <td>1.00</td>\n",
       "      <td>1180</td>\n",
       "      <td>5650</td>\n",
       "      <td>1.0</td>\n",
       "      <td>0</td>\n",
       "      <td>0</td>\n",
       "      <td>...</td>\n",
       "      <td>1180.0</td>\n",
       "      <td>0</td>\n",
       "      <td>1955</td>\n",
       "      <td>0</td>\n",
       "      <td>98178</td>\n",
       "      <td>47.5112</td>\n",
       "      <td>-122.257</td>\n",
       "      <td>new_house</td>\n",
       "      <td>house</td>\n",
       "      <td>regular</td>\n",
       "    </tr>\n",
       "    <tr>\n",
       "      <th>1</th>\n",
       "      <td>6414100192</td>\n",
       "      <td>2014-12-09</td>\n",
       "      <td>538000.0</td>\n",
       "      <td>3</td>\n",
       "      <td>2.25</td>\n",
       "      <td>2570</td>\n",
       "      <td>7242</td>\n",
       "      <td>2.0</td>\n",
       "      <td>0</td>\n",
       "      <td>0</td>\n",
       "      <td>...</td>\n",
       "      <td>2170.0</td>\n",
       "      <td>400</td>\n",
       "      <td>1951</td>\n",
       "      <td>1991</td>\n",
       "      <td>98125</td>\n",
       "      <td>47.7210</td>\n",
       "      <td>-122.319</td>\n",
       "      <td>new_house</td>\n",
       "      <td>house</td>\n",
       "      <td>regular</td>\n",
       "    </tr>\n",
       "    <tr>\n",
       "      <th>2</th>\n",
       "      <td>5631500400</td>\n",
       "      <td>2015-02-25</td>\n",
       "      <td>180000.0</td>\n",
       "      <td>2</td>\n",
       "      <td>1.00</td>\n",
       "      <td>770</td>\n",
       "      <td>10000</td>\n",
       "      <td>1.0</td>\n",
       "      <td>0</td>\n",
       "      <td>0</td>\n",
       "      <td>...</td>\n",
       "      <td>770.0</td>\n",
       "      <td>0</td>\n",
       "      <td>1933</td>\n",
       "      <td>0</td>\n",
       "      <td>98028</td>\n",
       "      <td>47.7379</td>\n",
       "      <td>-122.233</td>\n",
       "      <td>new_house</td>\n",
       "      <td>apartment</td>\n",
       "      <td>regular</td>\n",
       "    </tr>\n",
       "    <tr>\n",
       "      <th>3</th>\n",
       "      <td>2487200875</td>\n",
       "      <td>2014-12-09</td>\n",
       "      <td>604000.0</td>\n",
       "      <td>4</td>\n",
       "      <td>3.00</td>\n",
       "      <td>1960</td>\n",
       "      <td>5000</td>\n",
       "      <td>1.0</td>\n",
       "      <td>0</td>\n",
       "      <td>0</td>\n",
       "      <td>...</td>\n",
       "      <td>1050.0</td>\n",
       "      <td>910</td>\n",
       "      <td>1965</td>\n",
       "      <td>0</td>\n",
       "      <td>98136</td>\n",
       "      <td>47.5208</td>\n",
       "      <td>-122.393</td>\n",
       "      <td>new_house</td>\n",
       "      <td>house</td>\n",
       "      <td>good</td>\n",
       "    </tr>\n",
       "    <tr>\n",
       "      <th>4</th>\n",
       "      <td>1954400510</td>\n",
       "      <td>2015-02-18</td>\n",
       "      <td>510000.0</td>\n",
       "      <td>3</td>\n",
       "      <td>2.00</td>\n",
       "      <td>1680</td>\n",
       "      <td>8080</td>\n",
       "      <td>1.0</td>\n",
       "      <td>0</td>\n",
       "      <td>0</td>\n",
       "      <td>...</td>\n",
       "      <td>1680.0</td>\n",
       "      <td>0</td>\n",
       "      <td>1987</td>\n",
       "      <td>0</td>\n",
       "      <td>98074</td>\n",
       "      <td>47.6168</td>\n",
       "      <td>-122.045</td>\n",
       "      <td>new_house</td>\n",
       "      <td>house</td>\n",
       "      <td>regular</td>\n",
       "    </tr>\n",
       "    <tr>\n",
       "      <th>...</th>\n",
       "      <td>...</td>\n",
       "      <td>...</td>\n",
       "      <td>...</td>\n",
       "      <td>...</td>\n",
       "      <td>...</td>\n",
       "      <td>...</td>\n",
       "      <td>...</td>\n",
       "      <td>...</td>\n",
       "      <td>...</td>\n",
       "      <td>...</td>\n",
       "      <td>...</td>\n",
       "      <td>...</td>\n",
       "      <td>...</td>\n",
       "      <td>...</td>\n",
       "      <td>...</td>\n",
       "      <td>...</td>\n",
       "      <td>...</td>\n",
       "      <td>...</td>\n",
       "      <td>...</td>\n",
       "      <td>...</td>\n",
       "      <td>...</td>\n",
       "    </tr>\n",
       "    <tr>\n",
       "      <th>21608</th>\n",
       "      <td>263000018</td>\n",
       "      <td>2014-05-21</td>\n",
       "      <td>360000.0</td>\n",
       "      <td>3</td>\n",
       "      <td>2.50</td>\n",
       "      <td>1530</td>\n",
       "      <td>1131</td>\n",
       "      <td>3.0</td>\n",
       "      <td>0</td>\n",
       "      <td>0</td>\n",
       "      <td>...</td>\n",
       "      <td>1530.0</td>\n",
       "      <td>0</td>\n",
       "      <td>2009</td>\n",
       "      <td>0</td>\n",
       "      <td>98103</td>\n",
       "      <td>47.6993</td>\n",
       "      <td>-122.346</td>\n",
       "      <td>new_house</td>\n",
       "      <td>house</td>\n",
       "      <td>regular</td>\n",
       "    </tr>\n",
       "    <tr>\n",
       "      <th>21609</th>\n",
       "      <td>6600060120</td>\n",
       "      <td>2015-02-23</td>\n",
       "      <td>400000.0</td>\n",
       "      <td>4</td>\n",
       "      <td>2.50</td>\n",
       "      <td>2310</td>\n",
       "      <td>5813</td>\n",
       "      <td>2.0</td>\n",
       "      <td>0</td>\n",
       "      <td>0</td>\n",
       "      <td>...</td>\n",
       "      <td>2310.0</td>\n",
       "      <td>0</td>\n",
       "      <td>2014</td>\n",
       "      <td>0</td>\n",
       "      <td>98146</td>\n",
       "      <td>47.5107</td>\n",
       "      <td>-122.362</td>\n",
       "      <td>new_house</td>\n",
       "      <td>house</td>\n",
       "      <td>regular</td>\n",
       "    </tr>\n",
       "    <tr>\n",
       "      <th>21610</th>\n",
       "      <td>1523300141</td>\n",
       "      <td>2014-06-23</td>\n",
       "      <td>402101.0</td>\n",
       "      <td>2</td>\n",
       "      <td>0.75</td>\n",
       "      <td>1020</td>\n",
       "      <td>1350</td>\n",
       "      <td>2.0</td>\n",
       "      <td>0</td>\n",
       "      <td>0</td>\n",
       "      <td>...</td>\n",
       "      <td>1020.0</td>\n",
       "      <td>0</td>\n",
       "      <td>2009</td>\n",
       "      <td>0</td>\n",
       "      <td>98144</td>\n",
       "      <td>47.5944</td>\n",
       "      <td>-122.299</td>\n",
       "      <td>new_house</td>\n",
       "      <td>apartment</td>\n",
       "      <td>regular</td>\n",
       "    </tr>\n",
       "    <tr>\n",
       "      <th>21611</th>\n",
       "      <td>291310100</td>\n",
       "      <td>2015-01-16</td>\n",
       "      <td>400000.0</td>\n",
       "      <td>3</td>\n",
       "      <td>2.50</td>\n",
       "      <td>1600</td>\n",
       "      <td>2388</td>\n",
       "      <td>2.0</td>\n",
       "      <td>0</td>\n",
       "      <td>0</td>\n",
       "      <td>...</td>\n",
       "      <td>1600.0</td>\n",
       "      <td>0</td>\n",
       "      <td>2004</td>\n",
       "      <td>0</td>\n",
       "      <td>98027</td>\n",
       "      <td>47.5345</td>\n",
       "      <td>-122.069</td>\n",
       "      <td>new_house</td>\n",
       "      <td>house</td>\n",
       "      <td>regular</td>\n",
       "    </tr>\n",
       "    <tr>\n",
       "      <th>21612</th>\n",
       "      <td>1523300157</td>\n",
       "      <td>2014-10-15</td>\n",
       "      <td>325000.0</td>\n",
       "      <td>2</td>\n",
       "      <td>0.75</td>\n",
       "      <td>1020</td>\n",
       "      <td>1076</td>\n",
       "      <td>2.0</td>\n",
       "      <td>0</td>\n",
       "      <td>0</td>\n",
       "      <td>...</td>\n",
       "      <td>1020.0</td>\n",
       "      <td>0</td>\n",
       "      <td>2008</td>\n",
       "      <td>0</td>\n",
       "      <td>98144</td>\n",
       "      <td>47.5941</td>\n",
       "      <td>-122.299</td>\n",
       "      <td>new_house</td>\n",
       "      <td>apartment</td>\n",
       "      <td>regular</td>\n",
       "    </tr>\n",
       "  </tbody>\n",
       "</table>\n",
       "<p>21613 rows × 22 columns</p>\n",
       "</div>"
      ],
      "text/plain": [
       "               id       date     price  bedrooms  bathrooms  sqft_living  \\\n",
       "0      7129300520 2014-10-13  221900.0         3       1.00         1180   \n",
       "1      6414100192 2014-12-09  538000.0         3       2.25         2570   \n",
       "2      5631500400 2015-02-25  180000.0         2       1.00          770   \n",
       "3      2487200875 2014-12-09  604000.0         4       3.00         1960   \n",
       "4      1954400510 2015-02-18  510000.0         3       2.00         1680   \n",
       "...           ...        ...       ...       ...        ...          ...   \n",
       "21608   263000018 2014-05-21  360000.0         3       2.50         1530   \n",
       "21609  6600060120 2015-02-23  400000.0         4       2.50         2310   \n",
       "21610  1523300141 2014-06-23  402101.0         2       0.75         1020   \n",
       "21611   291310100 2015-01-16  400000.0         3       2.50         1600   \n",
       "21612  1523300157 2014-10-15  325000.0         2       0.75         1020   \n",
       "\n",
       "       sqft_lot  floors  waterfront  view  ... sqft_above  sqft_basement  \\\n",
       "0          5650     1.0           0     0  ...     1180.0              0   \n",
       "1          7242     2.0           0     0  ...     2170.0            400   \n",
       "2         10000     1.0           0     0  ...      770.0              0   \n",
       "3          5000     1.0           0     0  ...     1050.0            910   \n",
       "4          8080     1.0           0     0  ...     1680.0              0   \n",
       "...         ...     ...         ...   ...  ...        ...            ...   \n",
       "21608      1131     3.0           0     0  ...     1530.0              0   \n",
       "21609      5813     2.0           0     0  ...     2310.0              0   \n",
       "21610      1350     2.0           0     0  ...     1020.0              0   \n",
       "21611      2388     2.0           0     0  ...     1600.0              0   \n",
       "21612      1076     2.0           0     0  ...     1020.0              0   \n",
       "\n",
       "       yr_built  yr_renovated  zipcode      lat     long  house_age  \\\n",
       "0          1955             0    98178  47.5112 -122.257  new_house   \n",
       "1          1951          1991    98125  47.7210 -122.319  new_house   \n",
       "2          1933             0    98028  47.7379 -122.233  new_house   \n",
       "3          1965             0    98136  47.5208 -122.393  new_house   \n",
       "4          1987             0    98074  47.6168 -122.045  new_house   \n",
       "...         ...           ...      ...      ...      ...        ...   \n",
       "21608      2009             0    98103  47.6993 -122.346  new_house   \n",
       "21609      2014             0    98146  47.5107 -122.362  new_house   \n",
       "21610      2009             0    98144  47.5944 -122.299  new_house   \n",
       "21611      2004             0    98027  47.5345 -122.069  new_house   \n",
       "21612      2008             0    98144  47.5941 -122.299  new_house   \n",
       "\n",
       "       dormitory_type conditional_type  \n",
       "0               house          regular  \n",
       "1               house          regular  \n",
       "2           apartment          regular  \n",
       "3               house             good  \n",
       "4               house          regular  \n",
       "...               ...              ...  \n",
       "21608           house          regular  \n",
       "21609           house          regular  \n",
       "21610       apartment          regular  \n",
       "21611           house          regular  \n",
       "21612       apartment          regular  \n",
       "\n",
       "[21613 rows x 22 columns]"
      ]
     },
     "execution_count": 160,
     "metadata": {},
     "output_type": "execute_result"
    }
   ],
   "source": [
    "data = data.drop ( ['sqft_living15' , 'sqft_lot15'], axis =1 )\n",
    "data"
   ]
  },
  {
   "cell_type": "markdown",
   "id": "880e06ab-3893-49fa-9e5f-5314d1dd7e2e",
   "metadata": {},
   "source": [
    "#### 2.1.6  Modifique o TIPO a Coluna “yr_build” para DATE\n"
   ]
  },
  {
   "cell_type": "code",
   "execution_count": 161,
   "id": "17225e88-052e-4e39-bdc9-e520de738a0c",
   "metadata": {},
   "outputs": [
    {
     "data": {
      "text/plain": [
       "0       1955-01-01\n",
       "1       1951-01-01\n",
       "2       1933-01-01\n",
       "3       1965-01-01\n",
       "4       1987-01-01\n",
       "           ...    \n",
       "21608   2009-01-01\n",
       "21609   2014-01-01\n",
       "21610   2009-01-01\n",
       "21611   2004-01-01\n",
       "21612   2008-01-01\n",
       "Name: yr_built, Length: 21613, dtype: datetime64[ns]"
      ]
     },
     "execution_count": 161,
     "metadata": {},
     "output_type": "execute_result"
    }
   ],
   "source": [
    "data['yr_built'] = pd.to_datetime ( data['yr_built'], format='%Y' )\n",
    "data['yr_built']"
   ]
  },
  {
   "cell_type": "markdown",
   "id": "87fd26dd-3041-4f33-9616-374bcfe3f49c",
   "metadata": {},
   "source": [
    "#### 2.1.7  Modifique o TIPO da Coluna “yr_renovated” para DATE\n"
   ]
  },
  {
   "cell_type": "code",
   "execution_count": 162,
   "id": "2075b988-b6bb-466d-b609-4db0288db340",
   "metadata": {},
   "outputs": [
    {
     "data": {
      "text/plain": [
       "dtype('O')"
      ]
     },
     "execution_count": 162,
     "metadata": {},
     "output_type": "execute_result"
    }
   ],
   "source": [
    "data['yr_renovated'] = data['yr_renovated'].apply( lambda x: pd.to_datetime( x, format='%Y') if x > 0 else x )\n",
    "data['yr_renovated'].dtypes"
   ]
  },
  {
   "cell_type": "markdown",
   "id": "2553ec26-e5dc-4af0-b982-6d155c8d0b63",
   "metadata": {},
   "source": [
    "#### 2.1.8   Qual a data mais antiga de construção de um imóvel?\n"
   ]
  },
  {
   "cell_type": "code",
   "execution_count": 163,
   "id": "d1347542-16bc-4d90-9612-4ba014c5bd69",
   "metadata": {},
   "outputs": [
    {
     "name": "stdout",
     "output_type": "stream",
     "text": [
      "The oldest house is 1900 years old\n"
     ]
    }
   ],
   "source": [
    "min_date = data['yr_built'].min().year\n",
    "print( 'The oldest house is {} years old'.format( min_date ) )"
   ]
  },
  {
   "cell_type": "markdown",
   "id": "42825989-e980-4ff1-8111-8ed0e180eb21",
   "metadata": {},
   "source": [
    "#### 2.1.10  Quantos imóveis tem 2 andares?\n"
   ]
  },
  {
   "cell_type": "code",
   "execution_count": 164,
   "id": "bc0aeadd-25f4-4a0f-a158-b29ed08fdef9",
   "metadata": {},
   "outputs": [
    {
     "data": {
      "text/plain": [
       "0        1\n",
       "1        2\n",
       "2        1\n",
       "3        1\n",
       "4        1\n",
       "        ..\n",
       "21608    3\n",
       "21609    2\n",
       "21610    2\n",
       "21611    2\n",
       "21612    2\n",
       "Name: floors, Length: 21613, dtype: int32"
      ]
     },
     "execution_count": 164,
     "metadata": {},
     "output_type": "execute_result"
    }
   ],
   "source": [
    "data['floors'] = data ['floors'].astype( int )\n",
    "data['floors']"
   ]
  },
  {
   "cell_type": "code",
   "execution_count": 165,
   "id": "6334ad9c-64f2-42a5-96a3-bc6f96b7e198",
   "metadata": {},
   "outputs": [
    {
     "name": "stdout",
     "output_type": "stream",
     "text": [
      "The number of houses with 2 floors is: 8402\n"
     ]
    }
   ],
   "source": [
    "# Estrategia:\n",
    "# 1. Filtrar todoso os imóveis com 2 andares\n",
    "# 2. Contar o número de linhas\n",
    "\n",
    "houses = data[data['floors'] == 2].shape[0]\n",
    "print( 'The number of houses with 2 floors is: {}'.format( houses ) )"
   ]
  },
  {
   "cell_type": "markdown",
   "id": "92f2d33a-a04c-4993-af9d-289c81e5bcaf",
   "metadata": {},
   "source": [
    "#### 2.1.11  Quantos imóveis estao com a condição \"regular\"?\n"
   ]
  },
  {
   "cell_type": "code",
   "execution_count": 166,
   "id": "1ace7acb-d1f0-45b7-8354-5ba7d5976e02",
   "metadata": {},
   "outputs": [
    {
     "name": "stdout",
     "output_type": "stream",
     "text": [
      "Number of Houses in \"regular\" condition is: 19710\n"
     ]
    }
   ],
   "source": [
    "# Estrategia\n",
    "# 1. Filtrar todos os apartamentos com \"condition_type\" igual a \"regular\"\n",
    "# 2. Contar o número de imóveis sob essa condição\n",
    "\n",
    "houses = data[data['conditional_type'] == 'regular'].shape[0]\n",
    "print( 'Number of Houses in \"regular\" condition is: {}'.format( houses ) )\n"
   ]
  },
  {
   "cell_type": "markdown",
   "id": "7b11c513-7473-4521-a911-edf38eb66d84",
   "metadata": {},
   "source": [
    "#### 2.1.12  Quantos imóveis estão com a condição igual a “bad”e possuem “vista para água” ?\n"
   ]
  },
  {
   "cell_type": "code",
   "execution_count": 167,
   "id": "a6f73b03-6dc7-4108-b90e-c9835c614159",
   "metadata": {},
   "outputs": [
    {
     "name": "stdout",
     "output_type": "stream",
     "text": [
      "Number of Houses with water view and bad condition: 2\n"
     ]
    }
   ],
   "source": [
    "# Estrategia:\n",
    "# 1. Filtrar as colunas \"conditional_type\" igual a \"bad\" e \"waterfront\" igual a 1\n",
    "# 2. Contar o número de linhas\n",
    "\n",
    "houses = data[ (data['conditional_type'] == 'bad') & (data['waterfront'] == 1) ].shape[0]\n",
    "print( \"Number of Houses with water view and bad condition: {}\".format( houses ) )\n"
   ]
  },
  {
   "cell_type": "markdown",
   "id": "a8b31b44-0835-48e3-8fcf-88da6b13b29c",
   "metadata": {},
   "source": [
    "#### 2.1.13  Quantos imóveis estão com a condição igual a “good” e são “new_house”?\n",
    "\n"
   ]
  },
  {
   "cell_type": "code",
   "execution_count": 168,
   "id": "200ab73c-b00a-465a-b9a1-a566ff126ec0",
   "metadata": {},
   "outputs": [
    {
     "name": "stdout",
     "output_type": "stream",
     "text": [
      "Number of new house with good conditional type is: 1701\n"
     ]
    }
   ],
   "source": [
    "houses = data[ (data['conditional_type'] == 'good') & (data['house_age'] == 'new_house') ].shape[0]\n",
    "print( \"Number of new house with good conditional type is: {}\".format( houses ) )"
   ]
  },
  {
   "cell_type": "markdown",
   "id": "e6151819-cea0-48ea-b3ac-d320f1c671bf",
   "metadata": {},
   "source": [
    "#### 2.1.14  Qual o valor do imóvel mais caro do tipo “studio” ?\n"
   ]
  },
  {
   "cell_type": "code",
   "execution_count": 169,
   "id": "db27d398-046b-44c4-8c3e-03c22b96544c",
   "metadata": {},
   "outputs": [
    {
     "name": "stdout",
     "output_type": "stream",
     "text": [
      "Most expensive studio house: $1247000.0\n"
     ]
    }
   ],
   "source": [
    "# Estrategia:\n",
    "# 1. Filtrar as colunas \"dormitory_type\" igual a \"studio\"\n",
    "# 2. Encontrar o máximo valor da coluna \"price\"\n",
    "\n",
    "max_studio_price = data[data['dormitory_type'] == 'studio']['price'].max()\n",
    "print( \"Most expensive studio house: ${}\".format( max_studio_price ) )"
   ]
  },
  {
   "cell_type": "markdown",
   "id": "e4a8d127-d7e2-41da-b989-27e514a4aa6c",
   "metadata": {},
   "source": [
    "#### 2.1.15  Quantos imóveis do tipo “apartment” foram reformados em 2015 ?\n"
   ]
  },
  {
   "cell_type": "code",
   "execution_count": 170,
   "id": "0f015eb4-dcb9-401e-9988-10095112ad4e",
   "metadata": {},
   "outputs": [
    {
     "name": "stdout",
     "output_type": "stream",
     "text": [
      "Number of reformed house in 2015: 0\n"
     ]
    }
   ],
   "source": [
    "# Estrategia:\n",
    "# 1. Filtrar as colunas \"dormitory_type\" igual a \"apartament\" e \"yr_renovated\" equals to \"2015-01-01\"\n",
    "# 2. Contar o número de linhas\n",
    "\n",
    "houses = data[ (data['dormitory_type'] == 'apartament') & (data['yr_renovated'] == '2015-01-01') ].shape[0]\n",
    "print( \"Number of reformed house in 2015: {}\".format( houses ) )"
   ]
  },
  {
   "cell_type": "markdown",
   "id": "d67b43fb-2ee3-4765-a920-edfa6dafd713",
   "metadata": {},
   "source": [
    "#### 2.1.16  Qual o maior número de quartos que um imóveis do tipo “house” possui ?\n"
   ]
  },
  {
   "cell_type": "code",
   "execution_count": 171,
   "id": "e0887428-a644-4eb2-adf8-0e3b17a54a7d",
   "metadata": {},
   "outputs": [
    {
     "name": "stdout",
     "output_type": "stream",
     "text": [
      "Max number of bedrooms from a house: 33\n"
     ]
    }
   ],
   "source": [
    "# Estrategia:\n",
    "# 1. Filtrar as colunas \"dormitory type\" igual a \"house\"\n",
    "# 2. Encontrar o maior valor da coluna bedrooms\n",
    "\n",
    "max_house_bedrooms = data[data['dormitory_type'] == 'house']['bedrooms'].max()\n",
    "print( \"Max number of bedrooms from a house: {}\".format( max_house_bedrooms ) )\n"
   ]
  },
  {
   "cell_type": "markdown",
   "id": "82d496a0-0539-4f8e-bbae-5a6745094cac",
   "metadata": {},
   "source": [
    "#### 2.1.17   Quantos imóveis “new_house” foram reformados no ano de 2014?\n"
   ]
  },
  {
   "cell_type": "code",
   "execution_count": 172,
   "id": "ef1fc729-f04f-4cf0-bdb4-7563cacb14ea",
   "metadata": {},
   "outputs": [
    {
     "name": "stdout",
     "output_type": "stream",
     "text": [
      "Number of reformed house in 2014: 0\n"
     ]
    }
   ],
   "source": [
    "# Estrategia:\n",
    "# 1. Filtrar as colunas \"house_age\" igual a \"new_house\" e \"yr_renovated\" equals to \"2014-01-01\"\n",
    "# 2. Contar o número de linhas\n",
    "\n",
    "houses = data[(data['house_age'] == 'new_house') & (data['yr_renovated'] == 2014 )].shape[0]\n",
    "print( \"Number of reformed house in 2014: {}\".format(houses))"
   ]
  },
  {
   "cell_type": "markdown",
   "id": "f624acd7-1c5d-46e5-aac8-d949cff45ede",
   "metadata": {},
   "source": [
    "#### 2.1.18   18. Selecione as colunas: “id”, “date”, “price”, “floors”, “zipcode” pelo método:\n"
   ]
  },
  {
   "cell_type": "raw",
   "id": "7deb4340-00d0-4416-a68a-430a2bfbc611",
   "metadata": {},
   "source": [
    "-- Direto pelo nome das colunas\n",
    "-- Pelos índices\n",
    "-- Pelos índices das linhas e o nome das colunas\n",
    "-- Índices Booleanos"
   ]
  },
  {
   "cell_type": "code",
   "execution_count": 175,
   "id": "fd3f972a-7e52-4cd9-a700-62e11a6dfdde",
   "metadata": {},
   "outputs": [
    {
     "data": {
      "text/plain": [
       "Index(['id', 'date', 'price', 'bedrooms', 'bathrooms', 'sqft_living',\n",
       "       'sqft_lot', 'floors', 'waterfront', 'view', 'condition', 'grade',\n",
       "       'sqft_above', 'sqft_basement', 'yr_built', 'yr_renovated', 'zipcode',\n",
       "       'lat', 'long', 'house_age', 'dormitory_type', 'conditional_type'],\n",
       "      dtype='object')"
      ]
     },
     "execution_count": 175,
     "metadata": {},
     "output_type": "execute_result"
    }
   ],
   "source": [
    "data.columns"
   ]
  },
  {
   "cell_type": "code",
   "execution_count": 177,
   "id": "5f781c91-3827-40d0-91d9-3f19e97647f9",
   "metadata": {},
   "outputs": [],
   "source": [
    "### 1. Nome das colunas\n",
    "df1 = data[ ['id', 'date', 'price', 'floors', 'zipcode'] ]\n",
    "\n",
    "### Indices\n",
    "df2 = data.iloc [:, [0, 1, 2, 7, 16]]\n",
    "\n",
    "### Indices das lindhas e nome das colunas\n",
    "df3 = data.loc[:, ['id', 'date', 'price', 'floors', 'zipcode']]"
   ]
  },
  {
   "cell_type": "markdown",
   "id": "2956884c-07b5-4847-b4f3-6682c3dfe7df",
   "metadata": {},
   "source": [
    "#### 2.1.19. Salve um arquivo .csv com somente as colunas do item 10 ao 17.\n"
   ]
  },
  {
   "cell_type": "code",
   "execution_count": 178,
   "id": "8e7f4f0c-3274-41d2-872b-c81d74b8f827",
   "metadata": {},
   "outputs": [],
   "source": [
    "#data[ ['house_age', 'dormitory_type', 'conditional_type'] ].to_csv( 'exercicio18.csv' )"
   ]
  },
  {
   "cell_type": "code",
   "execution_count": null,
   "id": "228af620-668e-4d83-b4b7-a409a1409e8b",
   "metadata": {},
   "outputs": [],
   "source": []
  },
  {
   "cell_type": "code",
   "execution_count": null,
   "id": "7641ee86-fab0-48b2-ad26-e6c5ea10b0bc",
   "metadata": {},
   "outputs": [],
   "source": []
  },
  {
   "cell_type": "code",
   "execution_count": null,
   "id": "c0fe6f30-0584-4f25-98d6-d27d9f838fed",
   "metadata": {},
   "outputs": [],
   "source": []
  },
  {
   "cell_type": "code",
   "execution_count": null,
   "id": "8ca54940-6aec-4188-b5dc-a167b8d49130",
   "metadata": {},
   "outputs": [],
   "source": []
  },
  {
   "cell_type": "code",
   "execution_count": null,
   "id": "b326c1ae-f675-4db8-864c-70f58453806d",
   "metadata": {},
   "outputs": [],
   "source": []
  },
  {
   "cell_type": "code",
   "execution_count": null,
   "id": "76f9d84d-8356-4b7f-b1bc-dc4908558a76",
   "metadata": {},
   "outputs": [],
   "source": []
  },
  {
   "cell_type": "code",
   "execution_count": null,
   "id": "9f727199-e5e6-4956-abb9-41522c4c94f8",
   "metadata": {},
   "outputs": [],
   "source": []
  },
  {
   "cell_type": "code",
   "execution_count": null,
   "id": "9b9705ca-e64d-4593-b580-e824bc51b791",
   "metadata": {},
   "outputs": [],
   "source": []
  },
  {
   "cell_type": "code",
   "execution_count": null,
   "id": "cdf2444b-f1aa-4fd8-973f-8c90414c6965",
   "metadata": {},
   "outputs": [],
   "source": []
  },
  {
   "cell_type": "code",
   "execution_count": null,
   "id": "a3713b86-303f-46f8-83fd-175debebc99e",
   "metadata": {},
   "outputs": [],
   "source": []
  },
  {
   "cell_type": "code",
   "execution_count": null,
   "id": "a1518cb0-4fb4-48fd-8b2a-98bfaa54d8af",
   "metadata": {},
   "outputs": [],
   "source": []
  },
  {
   "cell_type": "code",
   "execution_count": null,
   "id": "050cd2c7-e129-4ee0-ba83-2aac6e99e3e9",
   "metadata": {},
   "outputs": [],
   "source": []
  },
  {
   "cell_type": "code",
   "execution_count": null,
   "id": "2320789f-3e04-4484-9330-083233e005c3",
   "metadata": {},
   "outputs": [],
   "source": []
  },
  {
   "cell_type": "code",
   "execution_count": null,
   "id": "5783bd01-50e2-4338-b7eb-0699450ecbe2",
   "metadata": {},
   "outputs": [],
   "source": []
  },
  {
   "cell_type": "code",
   "execution_count": null,
   "id": "1ee76a41-1d0f-4b96-8ee6-773db41edbe6",
   "metadata": {},
   "outputs": [],
   "source": []
  },
  {
   "cell_type": "code",
   "execution_count": null,
   "id": "be7d6c0c-8e32-4ec1-bb5f-39cbb0814d0c",
   "metadata": {},
   "outputs": [],
   "source": []
  },
  {
   "cell_type": "code",
   "execution_count": null,
   "id": "697b075e-c3d2-4fe0-9607-7ccabc0007c2",
   "metadata": {},
   "outputs": [],
   "source": []
  },
  {
   "cell_type": "code",
   "execution_count": null,
   "id": "208dc852-a313-408a-957b-f3614aac8977",
   "metadata": {},
   "outputs": [],
   "source": []
  },
  {
   "cell_type": "code",
   "execution_count": null,
   "id": "3909874a-c2a1-43a1-8937-43e6319bdc71",
   "metadata": {},
   "outputs": [],
   "source": []
  },
  {
   "cell_type": "code",
   "execution_count": null,
   "id": "1b24d639-4ec4-4047-bd81-8f5fba90001f",
   "metadata": {},
   "outputs": [],
   "source": []
  },
  {
   "cell_type": "code",
   "execution_count": null,
   "id": "66f1bb08-8400-47c2-9f9a-56703371c36b",
   "metadata": {},
   "outputs": [],
   "source": []
  },
  {
   "cell_type": "code",
   "execution_count": null,
   "id": "0645951e-6ea2-4450-baa0-dc9ace77cd87",
   "metadata": {},
   "outputs": [],
   "source": []
  },
  {
   "cell_type": "code",
   "execution_count": null,
   "id": "f7044553-a8c0-41dd-bfad-935f79db19e0",
   "metadata": {},
   "outputs": [],
   "source": []
  }
 ],
 "metadata": {
  "kernelspec": {
   "display_name": "Python 3 (ipykernel)",
   "language": "python",
   "name": "python3"
  },
  "language_info": {
   "codemirror_mode": {
    "name": "ipython",
    "version": 3
   },
   "file_extension": ".py",
   "mimetype": "text/x-python",
   "name": "python",
   "nbconvert_exporter": "python",
   "pygments_lexer": "ipython3",
   "version": "3.9.15"
  }
 },
 "nbformat": 4,
 "nbformat_minor": 5
}
